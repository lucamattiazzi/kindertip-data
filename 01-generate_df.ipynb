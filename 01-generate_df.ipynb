{
 "cells": [
  {
   "cell_type": "code",
   "execution_count": 13,
   "id": "f1a43f96-202d-4376-babe-11824f22542e",
   "metadata": {},
   "outputs": [],
   "source": [
    "import pandas as pd\n",
    "import json\n",
    "import pyarrow\n",
    "from statistics import mean"
   ]
  },
  {
   "cell_type": "code",
   "execution_count": 14,
   "id": "c0d1594f-341c-4284-9c76-74ef308e6d4c",
   "metadata": {},
   "outputs": [],
   "source": [
    "with open(\"./data/diary.json\", \"r\") as file:\n",
    "    diary = json.load(file)\n",
    "\n",
    "with open(\"./data/tags.json\", \"r\") as file:\n",
    "    all_tags = json.load(file)"
   ]
  },
  {
   "cell_type": "code",
   "execution_count": 15,
   "id": "92dbe9cb-bb48-461f-bfd4-b3017193561e",
   "metadata": {},
   "outputs": [],
   "source": [
    "COMMON_FOODS_CONSTANT = 3\n",
    "MINUMUM_VOTES = 1\n",
    "\n",
    "def quantity_to_vote(quantity):\n",
    "    return [10, 7, 3, 0][quantity - 1]\n",
    "\n",
    "def compute_vote(all_qty, total_avg):\n",
    "    if not all_qty:\n",
    "        return -1\n",
    "    avg = mean(all_qty)\n",
    "    votes_part = len(all_qty) / (len(all_qty) + COMMON_FOODS_CONSTANT) * avg\n",
    "    population_part = COMMON_FOODS_CONSTANT / (len(all_qty) + COMMON_FOODS_CONSTANT) * total_avg\n",
    "    return votes_part + population_part"
   ]
  },
  {
   "cell_type": "code",
   "execution_count": 16,
   "id": "dd9876ef-f053-4b27-8cb4-64d0ab24ab6d",
   "metadata": {},
   "outputs": [],
   "source": [
    "meals = []\n",
    "total_avg = mean([quantity_to_vote(de[\"quantity\"]) for de in diary])\n",
    "for meal, tags in all_tags.items():\n",
    "    diary_entries = [entry for entry in diary if entry[\"name\"].lower() == meal]\n",
    "    all_qty = [quantity_to_vote(de[\"quantity\"]) for de in diary_entries]\n",
    "    avg = mean(all_qty) if all_qty else -1\n",
    "    vote = compute_vote(all_qty, total_avg)\n",
    "    meals.append({ \"tags\": tags, \"avg\": avg, \"vote\": vote, \"meal\": meal })"
   ]
  },
  {
   "cell_type": "code",
   "execution_count": 17,
   "id": "ecd86f71-50a1-4e7d-b530-1f347761d9d5",
   "metadata": {},
   "outputs": [],
   "source": [
    "all_used_tags = list({ tag for meal, tags in all_tags.items() for tag in tags })"
   ]
  },
  {
   "cell_type": "code",
   "execution_count": 18,
   "id": "08ba2d3e-248b-4539-b9ca-44f017aea4eb",
   "metadata": {},
   "outputs": [],
   "source": [
    "df = pd.DataFrame(meals)"
   ]
  },
  {
   "cell_type": "code",
   "execution_count": 21,
   "id": "7e4dee12-4f96-46cb-9271-2dea2cc32e2d",
   "metadata": {},
   "outputs": [],
   "source": [
    "df.to_parquet(\"./data/meals.parquet\")"
   ]
  },
  {
   "cell_type": "code",
   "execution_count": null,
   "id": "4c84e88d-952d-42bb-bae4-c69a00c2e0b4",
   "metadata": {},
   "outputs": [],
   "source": []
  }
 ],
 "metadata": {
  "kernelspec": {
   "display_name": "Python 3 (ipykernel)",
   "language": "python",
   "name": "python3"
  },
  "language_info": {
   "codemirror_mode": {
    "name": "ipython",
    "version": 3
   },
   "file_extension": ".py",
   "mimetype": "text/x-python",
   "name": "python",
   "nbconvert_exporter": "python",
   "pygments_lexer": "ipython3",
   "version": "3.12.2"
  }
 },
 "nbformat": 4,
 "nbformat_minor": 5
}
