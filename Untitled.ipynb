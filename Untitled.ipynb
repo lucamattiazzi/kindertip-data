{
 "cells": [
  {
   "cell_type": "code",
   "execution_count": 1,
   "id": "d2a37097-587b-4f90-8394-76837903d6cd",
   "metadata": {},
   "outputs": [],
   "source": [
    "import pandas as pd"
   ]
  },
  {
   "cell_type": "code",
   "execution_count": 2,
   "id": "6ac37915-92e2-47b2-8726-01a5fa0f2bc7",
   "metadata": {},
   "outputs": [],
   "source": [
    "df = pd.read_parquet(\"./data/meals_with_recipes.parquet\")"
   ]
  }
 ],
 "metadata": {
  "kernelspec": {
   "display_name": "Python 3 (ipykernel)",
   "language": "python",
   "name": "python3"
  },
  "language_info": {
   "codemirror_mode": {
    "name": "ipython",
    "version": 3
   },
   "file_extension": ".py",
   "mimetype": "text/x-python",
   "name": "python",
   "nbconvert_exporter": "python",
   "pygments_lexer": "ipython3",
   "version": "3.12.2"
  }
 },
 "nbformat": 4,
 "nbformat_minor": 5
}
